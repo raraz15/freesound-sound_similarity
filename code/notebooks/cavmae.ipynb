{
 "cells": [
  {
   "cell_type": "code",
   "execution_count": 1,
   "metadata": {},
   "outputs": [],
   "source": [
    "%load_ext autoreload\n",
    "%autoreload 2\n",
    "\n",
    "import os\n",
    "import sys\n",
    "import json\n",
    "\n",
    "import numpy as np\n",
    "import pandas as pd\n",
    "import matplotlib.pyplot as plt\n",
    "\n",
    "cwd = os.getcwd()\n",
    "code_dir = os.path.dirname(cwd)\n",
    "sys.path.append(code_dir)\n",
    "\n",
    "import seaborn as sns\n",
    "\n",
    "from lib.directories import *\n",
    "from lib.plotting import *"
   ]
  },
  {
   "cell_type": "code",
   "execution_count": 2,
   "metadata": {},
   "outputs": [],
   "source": [
    "# model_name = '/home/roguz/freesound/freesound-perceptual_similarity/models/CAVMAE-audio_model.21.pth'\n",
    "model_name = '/home/roguz/freesound/freesound-perceptual_similarity/models/CAVMAE-as_46.6.pth'"
   ]
  },
  {
   "cell_type": "code",
   "execution_count": 3,
   "metadata": {},
   "outputs": [
    {
     "name": "stderr",
     "output_type": "stream",
     "text": [
      "/home/roguz/freesound/freesound-perceptual_similarity/ps/lib/python3.10/site-packages/tqdm/auto.py:21: TqdmWarning: IProgress not found. Please update jupyter and ipywidgets. See https://ipywidgets.readthedocs.io/en/stable/user_install.html\n",
      "  from .autonotebook import tqdm as notebook_tqdm\n"
     ]
    },
    {
     "name": "stdout",
     "output_type": "stream",
     "text": [
      "Use norm_pix_loss:  False\n",
      "Number of Audio Patches: 512, Visual Patches: 196\n",
      "Audio Positional Embedding Shape: torch.Size([1, 512, 768])\n",
      "Visual Positional Embedding Shape: torch.Size([1, 196, 768])\n",
      "<All keys matched successfully>\n"
     ]
    },
    {
     "name": "stderr",
     "output_type": "stream",
     "text": [
      "/home/roguz/freesound/freesound-perceptual_similarity/ps/lib/python3.10/site-packages/torch/cuda/__init__.py:138: UserWarning: CUDA initialization: The NVIDIA driver on your system is too old (found version 11080). Please update your GPU driver by downloading and installing a new version from the URL: http://www.nvidia.com/Download/index.aspx Alternatively, go to: https://pytorch.org to install a PyTorch version that has been compiled with your version of the CUDA driver. (Triggered internally at ../c10/cuda/CUDAFunctions.cpp:108.)\n",
      "  return torch._C._cuda_getDeviceCount() > 0\n"
     ]
    }
   ],
   "source": [
    "import librosa\n",
    "import torch, torchaudio\n",
    "from torch.cuda.amp import autocast\n",
    "\n",
    "if 'as_46.6.pth' in model_name:\n",
    "    from lib.cavmae.src.models import CAVMAEFT as CAVMAE\n",
    "    model = CAVMAE(label_dim=527, modality_specific_depth=11)\n",
    "    mode = None\n",
    "elif 'CAVMAE-audio_model.21.pth' in model_name:\n",
    "    from lib.cavmae.src.models import CAVMAE\n",
    "    model = CAVMAE(modality_specific_depth=11)\n",
    "    mode = 'a'\n",
    "sdA = torch.load(model_name, map_location='cpu')\n",
    "if isinstance(model, torch.nn.DataParallel) == False:\n",
    "    model = torch.nn.DataParallel(model)\n",
    "msg = model.load_state_dict(sdA, strict=True)\n",
    "print(msg)\n",
    "model.eval()\n",
    "\n",
    "def extract_embeddings(model, audio_path, mode=None):\n",
    "    waveform, sr = torchaudio.load(audio_path)\n",
    "    waveform = waveform[:30*44100]\n",
    "    waveform = waveform - waveform.mean()\n",
    "    fbank = torchaudio.compliance.kaldi.fbank(waveform, htk_compat=True, sample_frequency=sr, use_energy=False, window_type='hanning', num_mel_bins=128, dither=0.0, frame_shift=10)\n",
    "    target_length = 1024\n",
    "    n_frames = fbank.shape[0]\n",
    "    p = target_length - n_frames\n",
    "    if p > 0:\n",
    "        m = torch.nn.ZeroPad2d((0, 0, 0, p))\n",
    "        fbank = m(fbank)\n",
    "    elif p < 0:\n",
    "        fbank = fbank[0:target_length, :]\n",
    "    fbank = (fbank - (-5.081)) / (4.4849)\n",
    "    fbank = fbank.unsqueeze(0)\n",
    "    with torch.no_grad():\n",
    "        with autocast():\n",
    "            if mode is None:\n",
    "                audio_output, _ = model.module.forward_feat(fbank, torch.zeros_like(fbank))\n",
    "            else:\n",
    "                audio_output = model.module.forward_feat(fbank, torch.zeros_like(fbank), mode='a')\n",
    "        audio_output = audio_output.to('cpu').detach()\n",
    "    audio_output = audio_output.squeeze(0).mean(dim=0)\n",
    "    return audio_output.numpy()"
   ]
  },
  {
   "cell_type": "code",
   "execution_count": 4,
   "metadata": {},
   "outputs": [
    {
     "name": "stderr",
     "output_type": "stream",
     "text": [
      "/home/roguz/freesound/freesound-perceptual_similarity/ps/lib/python3.10/site-packages/torch/amp/autocast_mode.py:250: UserWarning: User provided device_type of 'cuda', but CUDA is not available. Disabling\n",
      "  warnings.warn(\n"
     ]
    }
   ],
   "source": [
    "embeddings = extract_embeddings(model, '/data/FSD50K/FSD50K.eval_audio/271617.wav', mode='a')"
   ]
  },
  {
   "cell_type": "code",
   "execution_count": 5,
   "metadata": {},
   "outputs": [
    {
     "data": {
      "text/plain": [
       "(768,)"
      ]
     },
     "execution_count": 5,
     "metadata": {},
     "output_type": "execute_result"
    }
   ],
   "source": [
    "embeddings.shape"
   ]
  },
  {
   "cell_type": "code",
   "execution_count": null,
   "metadata": {},
   "outputs": [],
   "source": []
  }
 ],
 "metadata": {
  "kernelspec": {
   "display_name": "ps",
   "language": "python",
   "name": "python3"
  },
  "language_info": {
   "codemirror_mode": {
    "name": "ipython",
    "version": 3
   },
   "file_extension": ".py",
   "mimetype": "text/x-python",
   "name": "python",
   "nbconvert_exporter": "python",
   "pygments_lexer": "ipython3",
   "version": "3.10.12"
  }
 },
 "nbformat": 4,
 "nbformat_minor": 2
}
